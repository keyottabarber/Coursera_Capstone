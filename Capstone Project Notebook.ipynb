{
    "cells": [
        {
            "metadata": {
                "collapsed": true
            },
            "cell_type": "code",
            "source": "#Create a new repository on your Github account and name it Coursera_Capstone.\n\n#If you haven't used Github before, you can find a series of videos to walk you through the process of creating a repository on Github and setting it up and getting started with Git. For Mac users, click here. For Windows users, click here.\n\n#Now, start a Jupyter Notebook using any platform that you are comfortable with and do the following:\n\n#Write some markdown to explain that this notebook will be mainly used for the capstone project.\n#Import the pandas library as pd.\n#Import the Numpy library as np.\n#Print the following the statement: Hello Capstone Project Course!\n#Push the Notebook to your Github repository and submit a link to the notebook on your Github repository.",
            "execution_count": null,
            "outputs": []
        },
        {
            "metadata": {},
            "cell_type": "code",
            "source": "import pandas as pd\nimport numpy as np\n\nprint(\"Hello Capstone Project Course!\")\n\n\n",
            "execution_count": 1,
            "outputs": [
                {
                    "output_type": "stream",
                    "text": "Hello Capstone Project Course!\n",
                    "name": "stdout"
                }
            ]
        },
        {
            "metadata": {},
            "cell_type": "code",
            "source": "",
            "execution_count": null,
            "outputs": []
        }
    ],
    "metadata": {
        "kernelspec": {
            "name": "python3",
            "display_name": "Python 3.7",
            "language": "python"
        },
        "language_info": {
            "name": "python",
            "version": "3.7.9",
            "mimetype": "text/x-python",
            "codemirror_mode": {
                "name": "ipython",
                "version": 3
            },
            "pygments_lexer": "ipython3",
            "nbconvert_exporter": "python",
            "file_extension": ".py"
        }
    },
    "nbformat": 4,
    "nbformat_minor": 1
}